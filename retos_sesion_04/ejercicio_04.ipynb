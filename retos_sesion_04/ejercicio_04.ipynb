{
 "cells": [
  {
   "cell_type": "markdown",
   "id": "e8df2850",
   "metadata": {},
   "source": [
    "Juego de Canicas\n",
    "Cada jugador avanza su canica de la salida a la meta en un pequeño recorrido."
   ]
  },
  {
   "cell_type": "markdown",
   "id": "00f3c8a8",
   "metadata": {},
   "source": [
    "Reglas\n",
    "        - Cada jugador tiene una canica (`o`)\n",
    "        - En tu turno avanzas una casilla.\n",
    "        - Si caes en la casilla de trampa (`*`), vuelves a la salida.\n",
    "        - El primero que llegue a la meta (`M`) gana."
   ]
  },
  {
   "cell_type": "code",
   "execution_count": null,
   "id": "f9fdcaf6",
   "metadata": {},
   "outputs": [
    {
     "name": "stdout",
     "output_type": "stream",
     "text": [
      "(S)-(1)-(2)-(3)-(M)\n",
      "         *  ← trampa en casilla 2\n"
     ]
    }
   ],
   "source": [
    "# Diseño de tablero\n",
    "print(\"(S)-(1)-(2)-(3)-(M)\")\n",
    "print(\"         *  ← trampa en casiSlla 2\")"
   ]
  },
  {
   "cell_type": "markdown",
   "id": "c828a22f",
   "metadata": {},
   "source": [
    " Piezas y símbolos\n",
    "        - `o` = tu canica\n",
    "        - `*` = trampa (vuelves a salida)\n",
    "        - `S` = salida\n",
    "        - `M` = meta"
   ]
  },
  {
   "cell_type": "code",
   "execution_count": null,
   "id": "2270fc1d",
   "metadata": {},
   "outputs": [
    {
     "name": "stdout",
     "output_type": "stream",
     "text": [
      "o = canica del jugador\n",
      "* = trampa\n"
     ]
    }
   ],
   "source": [
    "#Diseño de las piezas\n",
    "print(\"o = canica del jugador\")\n",
    "print(\"* = trampa\")"
   ]
  }
 ],
 "metadata": {
  "kernelspec": {
   "display_name": "base",
   "language": "python",
   "name": "python3"
  },
  "language_info": {
   "codemirror_mode": {
    "name": "ipython",
    "version": 3
   },
   "file_extension": ".py",
   "mimetype": "text/x-python",
   "name": "python",
   "nbconvert_exporter": "python",
   "pygments_lexer": "ipython3",
   "version": "3.11.7"
  }
 },
 "nbformat": 4,
 "nbformat_minor": 5
}
