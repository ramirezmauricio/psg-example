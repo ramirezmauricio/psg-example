{
 "cells": [
  {
   "cell_type": "markdown",
   "id": "6e508218",
   "metadata": {},
   "source": [
    "Esta segunda práctica requiere de un archivo en formato jupyter y lo que dibujé con las características definidas fue un auto"
   ]
  },
  {
   "cell_type": "code",
   "execution_count": 7,
   "id": "fb3a557b",
   "metadata": {},
   "outputs": [
    {
     "name": "stdout",
     "output_type": "stream",
     "text": [
      "        ________\n",
      "   ____/[]  []  \\____\n",
      " =| _  |   *|   *|  |\n",
      "    (*)---------(*) \n"
     ]
    }
   ],
   "source": [
    "print(\"        ________\")\n",
    "print(\"   ____/[]  []  \\____\")\n",
    "print(\" =| _  |   *|   *|  |\")\n",
    "print(\"    (*)---------(*) \")"
   ]
  }
 ],
 "metadata": {
  "kernelspec": {
   "display_name": "base",
   "language": "python",
   "name": "python3"
  },
  "language_info": {
   "codemirror_mode": {
    "name": "ipython",
    "version": 3
   },
   "file_extension": ".py",
   "mimetype": "text/x-python",
   "name": "python",
   "nbconvert_exporter": "python",
   "pygments_lexer": "ipython3",
   "version": "3.11.7"
  }
 },
 "nbformat": 4,
 "nbformat_minor": 5
}
