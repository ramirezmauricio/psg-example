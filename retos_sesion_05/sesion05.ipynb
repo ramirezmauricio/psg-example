{
  "cells": [
    {
      "cell_type": "markdown",
      "metadata": {},
      "source": [
        "## Tipo de dato del valor \"1\""
      ]
    },
    {
      "cell_type": "code",
      "execution_count": null,
      "metadata": {},
      "outputs": [],
      "source": [
        "print(type(1))"
      ]
    },
    {
      "cell_type": "markdown",
      "metadata": {},
      "source": [
        "## Asignación de una variable"
      ]
    },
    {
      "cell_type": "code",
      "execution_count": null,
      "metadata": {},
      "outputs": [],
      "source": [
        "nombre_variable = \"valor\""
      ]
    },
    {
      "cell_type": "markdown",
      "metadata": {},
      "source": [
        "## Ejemplo de un cálculo correcto y variables nombradas incorrectamente"
      ]
    },
    {
      "cell_type": "code",
      "execution_count": null,
      "metadata": {},
      "outputs": [],
      "source": [
        "x1q3z9ahd = 35.0\n",
        "x1q3z9afd = 12.50\n",
        "x1q3p9afd = x1q3z9ahd * x1q3z9afd\n",
        "print(x1q3p9afd)"
      ]
    },
    {
      "cell_type": "markdown",
      "metadata": {},
      "source": [
        "## Ejemplo de un cálculo correto y variables nombradas correctamente"
      ]
    },
    {
      "cell_type": "code",
      "execution_count": null,
      "metadata": {},
      "outputs": [],
      "source": [
        "horas = 35.0\n",
        "tarifa = 12.50\n",
        "salario = horas * tarifa\n",
        "print(salario)"
      ]
    },
    {
      "cell_type": "markdown",
      "metadata": {},
      "source": [
        "## Tipos de datos numéricos"
      ]
    },
    {
      "cell_type": "markdown",
      "metadata": {},
      "source": [
        "### Int - Intergers o Enteros, números naturales"
      ]
    },
    {
      "cell_type": "code",
      "execution_count": null,
      "metadata": {},
      "outputs": [],
      "source": [
        "# Valor 10 Entero\n",
        "print (10)\n",
        "print ( type (10) )\n",
        "\n",
        "# Variable 100 Entero\n",
        "variable = 100\n",
        "print (variable)\n",
        "print ( type (variable) )\n",
        "\n",
        "# Variable 20 Entero\n",
        "variable_2 = int (20)\n",
        "print (variable_2)\n",
        "print ( type (variable_2) )"
      ]
    },
    {
      "cell_type": "markdown",
      "metadata": {},
      "source": [
        "### Diferentes tipos de bases"
      ]
    },
    {
      "cell_type": "code",
      "execution_count": null,
      "metadata": {},
      "outputs": [],
      "source": [
        "# Valor 10 en base decimal\n",
        "print (\"Base decimal\")\n",
        "print (10)\n",
        "# Valor 10 en binario\n",
        "print (\"Base binaria\")\n",
        "print (0b1010)\n",
        "# Valor 10 en octal\n",
        "print (\"Base octal\")\n",
        "print (0o12)\n",
        "# Valor 10 en hexadecimal\n",
        "print (\"Base hexadecimal\")\n",
        "print (0xa)"
      ]
    },
    {
      "cell_type": "markdown",
      "metadata": {},
      "source": [
        "### Los números no tienen límites"
      ]
    },
    {
      "cell_type": "code",
      "execution_count": null,
      "metadata": {},
      "outputs": [],
      "source": [
        "# Entero con 60 dígitos\n",
        "variable_3 = 123456789012345678901234567890123456789012345678901234567890\n",
        "print (variable_3)\n",
        "print (type (variable_3))"
      ]
    },
    {
      "cell_type": "markdown",
      "metadata": {},
      "source": [
        "### Float - Floating point o punto flotante, números reales"
      ]
    },
    {
      "cell_type": "code",
      "execution_count": null,
      "metadata": {},
      "outputs": [],
      "source": [
        "# Valor 0.5 Flotante\n",
        "print (0.5)\n",
        "print ( type (0.5) )\n",
        "\n",
        "# Variable 0.100546 Flotante\n",
        "variable_4 = 0.100546\n",
        "print (variable_4)\n",
        "print ( type (variable_4) )\n",
        "\n",
        "# Variable 1 Flotante\n",
        "variable_7 = float (1)\n",
        "print(variable_7)\n",
        "print ( type (variable_7) )\n",
        "\n",
        "# Valor 2.0e-3 Flotante\n",
        "variable_6 = 2.0e-3\n",
        "print(variable_6)\n",
        "print ( type (variable_6) )\n",
        "\n",
        "# Precisión de 17 decimales\n",
        "variable_5 = 0.9999999999999999\n",
        "print(variable_5)\n",
        "print ( type (variable_5) )"
      ]
    },
    {
      "cell_type": "markdown",
      "metadata": {},
      "source": [
        "## Operadores aritméticos"
      ]
    },
    {
      "cell_type": "code",
      "execution_count": null,
      "metadata": {},
      "outputs": [],
      "source": [
        "a = 10\n",
        "b = 3\n",
        "# Suma\n",
        "print (\"Suma\")\n",
        "print (a + b)\n",
        "# Resta\n",
        "print (\"Resta\")\n",
        "print (a - b)\n",
        "# Multiplicación\n",
        "print (\"Multiplicación\")\n",
        "print (a * b)\n",
        "# División\n",
        "print (\"División\")\n",
        "print (a / b)\n",
        "# Potencia\n",
        "print (\"Potencia\")\n",
        "print (a ** b)\n",
        "# Módulo o residuo\n",
        "print (\"Módulo o residuo\")\n",
        "print (a % b)\n",
        "# División entera\n",
        "print (\"División entera\")\n",
        "print (a // b)"
      ]
    },
    {
      "cell_type": "markdown",
      "metadata": {},
      "source": [
        "## EJERCICIO 1"
      ]
    },
    {
      "cell_type": "code",
      "execution_count": null,
      "metadata": {},
      "outputs": [],
      "source": [
        "m = 300\n",
        "s = 3600\n",
        "h = m // 60 + s // 3600\n",
        "print(\"horas en total:\", h)"
      ]
    },
    {
      "cell_type": "markdown",
      "metadata": {},
      "source": [
        "## Operadores de comparación"
      ]
    },
    {
      "cell_type": "code",
      "execution_count": null,
      "metadata": {},
      "outputs": [],
      "source": [
        "print (\"Operadores de comparación\")\n",
        "comparar = 10\n",
        "print (comparar < 10)\n",
        "print (comparar > 10)\n",
        "print (comparar == 10)\n",
        "print (comparar <= 10)\n",
        "print (comparar >= 10)\n",
        "print (comparar != 10)\n",
        "\n",
        "print (\"Operadores de comparación con int - float\")\n",
        "entero = 10\n",
        "flotante = 10.0\n",
        "print (entero < flotante)\n",
        "print (entero > flotante)\n",
        "print (entero == flotante)\n",
        "print (entero <= flotante)\n",
        "print (entero >= flotante)\n",
        "print (entero != flotante)"
      ]
    }
  ],
  "metadata": {
    "kernelspec": {
      "display_name": "Python 3",
      "language": "python",
      "name": "python3"
    },
    "language_info": {
      "file_extension": ".py",
      "mimetype": "text/x-python",
      "name": "python",
      "version": "3.x"
    }
  },
  "nbformat": 4,
  "nbformat_minor": 5
}
