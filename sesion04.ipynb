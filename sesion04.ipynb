{
 "cells": [
  {
   "cell_type": "markdown",
   "id": "14f26f2a",
   "metadata": {},
   "source": [
    "print(\"Hola, Mundo desde Notebook!\")"
   ]
  },
  {
   "cell_type": "code",
   "execution_count": 1,
   "id": "dbfb6e0e",
   "metadata": {},
   "outputs": [
    {
     "name": "stdout",
     "output_type": "stream",
     "text": [
      "Hola, Mundo desde Notebook!\n"
     ]
    }
   ],
   "source": [
    "print(\"Hola, Mundo desde Notebook!\")"
   ]
  }
 ],
 "metadata": {
  "kernelspec": {
   "display_name": "base",
   "language": "python",
   "name": "python3"
  },
  "language_info": {
   "codemirror_mode": {
    "name": "ipython",
    "version": 3
   },
   "file_extension": ".py",
   "mimetype": "text/x-python",
   "name": "python",
   "nbconvert_exporter": "python",
   "pygments_lexer": "ipython3",
   "version": "3.11.7"
  }
 },
 "nbformat": 4,
 "nbformat_minor": 5
}
