{
 "cells": [
  {
   "cell_type": "code",
   "execution_count": 1,
   "id": "1b8a56d3",
   "metadata": {},
   "outputs": [
    {
     "name": "stdout",
     "output_type": "stream",
     "text": [
      "Hola,\n",
      "\teste es un mensaje \u000bcon algunos caracteres especiales como \\ y tabulador.\n"
     ]
    }
   ],
   "source": [
    "mensaje = \"Hola,\\n\\teste es un mensaje \\vcon algunos caracteres \\\n",
    "especiales como \\\\ y tabulador.\"\n",
    "print(mensaje)"
   ]
  },
  {
   "cell_type": "code",
   "execution_count": 4,
   "id": "3763c496",
   "metadata": {},
   "outputs": [
    {
     "name": "stdout",
     "output_type": "stream",
     "text": [
      "a\n",
      "o\n"
     ]
    }
   ],
   "source": [
    "palabra = \"mi palabra es mejor\"\n",
    "print(palabra[6])\n",
    "print(palabra[-2])"
   ]
  },
  {
   "cell_type": "code",
   "execution_count": null,
   "id": "8392eb6c",
   "metadata": {},
   "outputs": [],
   "source": []
  }
 ],
 "metadata": {
  "kernelspec": {
   "display_name": "empresa",
   "language": "python",
   "name": "python3"
  },
  "language_info": {
   "codemirror_mode": {
    "name": "ipython",
    "version": 3
   },
   "file_extension": ".py",
   "mimetype": "text/x-python",
   "name": "python",
   "nbconvert_exporter": "python",
   "pygments_lexer": "ipython3",
   "version": "3.11.0"
  }
 },
 "nbformat": 4,
 "nbformat_minor": 5
}
